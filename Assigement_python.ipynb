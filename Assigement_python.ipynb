{
  "nbformat": 4,
  "nbformat_minor": 0,
  "metadata": {
    "colab": {
      "provenance": [],
      "collapsed_sections": []
    },
    "kernelspec": {
      "name": "python3",
      "display_name": "Python 3"
    },
    "language_info": {
      "name": "python"
    }
  },
  "cells": [
    {
      "cell_type": "markdown",
      "source": [
        "# **1.Import Libraries**"
      ],
      "metadata": {
        "id": "rzdU3Smv_2zG"
      }
    },
    {
      "cell_type": "code",
      "source": [
        "import numpy as np\n",
        "import pandas as pd\n",
        "import seaborn as sns\n",
        "import matplotlib.pyplot as plt\n",
        "%matplotlib inline\n",
        "plt.style.use('ggplot')"
      ],
      "metadata": {
        "id": "3PUqz5z9ABBf"
      },
      "execution_count": 31,
      "outputs": []
    },
    {
      "cell_type": "markdown",
      "source": [
        "# **2.Read Excel File**"
      ],
      "metadata": {
        "id": "ZNsG-qGdACEo"
      }
    },
    {
      "cell_type": "code",
      "source": [
        "df=pd.read_excel(\"/content/Assignment Data.xlsx\")"
      ],
      "metadata": {
        "id": "EyJp14CwP-1T"
      },
      "execution_count": 32,
      "outputs": []
    },
    {
      "cell_type": "markdown",
      "source": [
        "# **3.How Data Looks Like?**"
      ],
      "metadata": {
        "id": "UgUwpPQCAKWp"
      }
    },
    {
      "cell_type": "code",
      "source": [
        "df.sample(10)"
      ],
      "metadata": {
        "id": "PKnSygZVP-x6",
        "outputId": "b2c4a1b9-c19f-4978-a652-e3e14b39ba0f",
        "colab": {
          "base_uri": "https://localhost:8080/",
          "height": 363
        }
      },
      "execution_count": 33,
      "outputs": [
        {
          "output_type": "execute_result",
          "data": {
            "text/plain": [
              "      User No                 system_email  date_joined  LT Done  Paid/Free  \\\n",
              "1028   1029.0  test1661249261668@gmail.com      44796.0      0.0        NaN   \n",
              "1701   1702.0  test1661792348628@gmail.com      44802.0      1.0        NaN   \n",
              "677     678.0  test1647694137487@gmail.com      44765.0      0.0        NaN   \n",
              "310     311.0  test1647268643578@gmail.com      44751.0      0.0        NaN   \n",
              "851     852.0  test1648557114181@gmail.com      44774.0      0.0        NaN   \n",
              "276     277.0  test1648320790111@gmail.com      44749.0      0.0        NaN   \n",
              "1339   1340.0  test1648040754651@gmail.com      44798.0      0.0        NaN   \n",
              "903     904.0  test1647693822696@gmail.com      44781.0      0.0        NaN   \n",
              "201     202.0                          NaN          NaN      0.0        NaN   \n",
              "348     349.0  test1649525978528@gmail.com      44752.0      0.0        NaN   \n",
              "\n",
              "      Revision Done  \n",
              "1028            0.0  \n",
              "1701            0.0  \n",
              "677             0.0  \n",
              "310             0.0  \n",
              "851             0.0  \n",
              "276             0.0  \n",
              "1339            0.0  \n",
              "903             0.0  \n",
              "201             0.0  \n",
              "348             0.0  "
            ],
            "text/html": [
              "\n",
              "  <div id=\"df-e28b0839-d6a2-43cd-80c2-1583a582d8ab\">\n",
              "    <div class=\"colab-df-container\">\n",
              "      <div>\n",
              "<style scoped>\n",
              "    .dataframe tbody tr th:only-of-type {\n",
              "        vertical-align: middle;\n",
              "    }\n",
              "\n",
              "    .dataframe tbody tr th {\n",
              "        vertical-align: top;\n",
              "    }\n",
              "\n",
              "    .dataframe thead th {\n",
              "        text-align: right;\n",
              "    }\n",
              "</style>\n",
              "<table border=\"1\" class=\"dataframe\">\n",
              "  <thead>\n",
              "    <tr style=\"text-align: right;\">\n",
              "      <th></th>\n",
              "      <th>User No</th>\n",
              "      <th>system_email</th>\n",
              "      <th>date_joined</th>\n",
              "      <th>LT Done</th>\n",
              "      <th>Paid/Free</th>\n",
              "      <th>Revision Done</th>\n",
              "    </tr>\n",
              "  </thead>\n",
              "  <tbody>\n",
              "    <tr>\n",
              "      <th>1028</th>\n",
              "      <td>1029.0</td>\n",
              "      <td>test1661249261668@gmail.com</td>\n",
              "      <td>44796.0</td>\n",
              "      <td>0.0</td>\n",
              "      <td>NaN</td>\n",
              "      <td>0.0</td>\n",
              "    </tr>\n",
              "    <tr>\n",
              "      <th>1701</th>\n",
              "      <td>1702.0</td>\n",
              "      <td>test1661792348628@gmail.com</td>\n",
              "      <td>44802.0</td>\n",
              "      <td>1.0</td>\n",
              "      <td>NaN</td>\n",
              "      <td>0.0</td>\n",
              "    </tr>\n",
              "    <tr>\n",
              "      <th>677</th>\n",
              "      <td>678.0</td>\n",
              "      <td>test1647694137487@gmail.com</td>\n",
              "      <td>44765.0</td>\n",
              "      <td>0.0</td>\n",
              "      <td>NaN</td>\n",
              "      <td>0.0</td>\n",
              "    </tr>\n",
              "    <tr>\n",
              "      <th>310</th>\n",
              "      <td>311.0</td>\n",
              "      <td>test1647268643578@gmail.com</td>\n",
              "      <td>44751.0</td>\n",
              "      <td>0.0</td>\n",
              "      <td>NaN</td>\n",
              "      <td>0.0</td>\n",
              "    </tr>\n",
              "    <tr>\n",
              "      <th>851</th>\n",
              "      <td>852.0</td>\n",
              "      <td>test1648557114181@gmail.com</td>\n",
              "      <td>44774.0</td>\n",
              "      <td>0.0</td>\n",
              "      <td>NaN</td>\n",
              "      <td>0.0</td>\n",
              "    </tr>\n",
              "    <tr>\n",
              "      <th>276</th>\n",
              "      <td>277.0</td>\n",
              "      <td>test1648320790111@gmail.com</td>\n",
              "      <td>44749.0</td>\n",
              "      <td>0.0</td>\n",
              "      <td>NaN</td>\n",
              "      <td>0.0</td>\n",
              "    </tr>\n",
              "    <tr>\n",
              "      <th>1339</th>\n",
              "      <td>1340.0</td>\n",
              "      <td>test1648040754651@gmail.com</td>\n",
              "      <td>44798.0</td>\n",
              "      <td>0.0</td>\n",
              "      <td>NaN</td>\n",
              "      <td>0.0</td>\n",
              "    </tr>\n",
              "    <tr>\n",
              "      <th>903</th>\n",
              "      <td>904.0</td>\n",
              "      <td>test1647693822696@gmail.com</td>\n",
              "      <td>44781.0</td>\n",
              "      <td>0.0</td>\n",
              "      <td>NaN</td>\n",
              "      <td>0.0</td>\n",
              "    </tr>\n",
              "    <tr>\n",
              "      <th>201</th>\n",
              "      <td>202.0</td>\n",
              "      <td>NaN</td>\n",
              "      <td>NaN</td>\n",
              "      <td>0.0</td>\n",
              "      <td>NaN</td>\n",
              "      <td>0.0</td>\n",
              "    </tr>\n",
              "    <tr>\n",
              "      <th>348</th>\n",
              "      <td>349.0</td>\n",
              "      <td>test1649525978528@gmail.com</td>\n",
              "      <td>44752.0</td>\n",
              "      <td>0.0</td>\n",
              "      <td>NaN</td>\n",
              "      <td>0.0</td>\n",
              "    </tr>\n",
              "  </tbody>\n",
              "</table>\n",
              "</div>\n",
              "      <button class=\"colab-df-convert\" onclick=\"convertToInteractive('df-e28b0839-d6a2-43cd-80c2-1583a582d8ab')\"\n",
              "              title=\"Convert this dataframe to an interactive table.\"\n",
              "              style=\"display:none;\">\n",
              "        \n",
              "  <svg xmlns=\"http://www.w3.org/2000/svg\" height=\"24px\"viewBox=\"0 0 24 24\"\n",
              "       width=\"24px\">\n",
              "    <path d=\"M0 0h24v24H0V0z\" fill=\"none\"/>\n",
              "    <path d=\"M18.56 5.44l.94 2.06.94-2.06 2.06-.94-2.06-.94-.94-2.06-.94 2.06-2.06.94zm-11 1L8.5 8.5l.94-2.06 2.06-.94-2.06-.94L8.5 2.5l-.94 2.06-2.06.94zm10 10l.94 2.06.94-2.06 2.06-.94-2.06-.94-.94-2.06-.94 2.06-2.06.94z\"/><path d=\"M17.41 7.96l-1.37-1.37c-.4-.4-.92-.59-1.43-.59-.52 0-1.04.2-1.43.59L10.3 9.45l-7.72 7.72c-.78.78-.78 2.05 0 2.83L4 21.41c.39.39.9.59 1.41.59.51 0 1.02-.2 1.41-.59l7.78-7.78 2.81-2.81c.8-.78.8-2.07 0-2.86zM5.41 20L4 18.59l7.72-7.72 1.47 1.35L5.41 20z\"/>\n",
              "  </svg>\n",
              "      </button>\n",
              "      \n",
              "  <style>\n",
              "    .colab-df-container {\n",
              "      display:flex;\n",
              "      flex-wrap:wrap;\n",
              "      gap: 12px;\n",
              "    }\n",
              "\n",
              "    .colab-df-convert {\n",
              "      background-color: #E8F0FE;\n",
              "      border: none;\n",
              "      border-radius: 50%;\n",
              "      cursor: pointer;\n",
              "      display: none;\n",
              "      fill: #1967D2;\n",
              "      height: 32px;\n",
              "      padding: 0 0 0 0;\n",
              "      width: 32px;\n",
              "    }\n",
              "\n",
              "    .colab-df-convert:hover {\n",
              "      background-color: #E2EBFA;\n",
              "      box-shadow: 0px 1px 2px rgba(60, 64, 67, 0.3), 0px 1px 3px 1px rgba(60, 64, 67, 0.15);\n",
              "      fill: #174EA6;\n",
              "    }\n",
              "\n",
              "    [theme=dark] .colab-df-convert {\n",
              "      background-color: #3B4455;\n",
              "      fill: #D2E3FC;\n",
              "    }\n",
              "\n",
              "    [theme=dark] .colab-df-convert:hover {\n",
              "      background-color: #434B5C;\n",
              "      box-shadow: 0px 1px 3px 1px rgba(0, 0, 0, 0.15);\n",
              "      filter: drop-shadow(0px 1px 2px rgba(0, 0, 0, 0.3));\n",
              "      fill: #FFFFFF;\n",
              "    }\n",
              "  </style>\n",
              "\n",
              "      <script>\n",
              "        const buttonEl =\n",
              "          document.querySelector('#df-e28b0839-d6a2-43cd-80c2-1583a582d8ab button.colab-df-convert');\n",
              "        buttonEl.style.display =\n",
              "          google.colab.kernel.accessAllowed ? 'block' : 'none';\n",
              "\n",
              "        async function convertToInteractive(key) {\n",
              "          const element = document.querySelector('#df-e28b0839-d6a2-43cd-80c2-1583a582d8ab');\n",
              "          const dataTable =\n",
              "            await google.colab.kernel.invokeFunction('convertToInteractive',\n",
              "                                                     [key], {});\n",
              "          if (!dataTable) return;\n",
              "\n",
              "          const docLinkHtml = 'Like what you see? Visit the ' +\n",
              "            '<a target=\"_blank\" href=https://colab.research.google.com/notebooks/data_table.ipynb>data table notebook</a>'\n",
              "            + ' to learn more about interactive tables.';\n",
              "          element.innerHTML = '';\n",
              "          dataTable['output_type'] = 'display_data';\n",
              "          await google.colab.output.renderOutput(dataTable, element);\n",
              "          const docLink = document.createElement('div');\n",
              "          docLink.innerHTML = docLinkHtml;\n",
              "          element.appendChild(docLink);\n",
              "        }\n",
              "      </script>\n",
              "    </div>\n",
              "  </div>\n",
              "  "
            ]
          },
          "metadata": {},
          "execution_count": 33
        }
      ]
    },
    {
      "cell_type": "markdown",
      "source": [
        "# **4.Data Size?**"
      ],
      "metadata": {
        "id": "Ui6zjvfrAYqx"
      }
    },
    {
      "cell_type": "code",
      "source": [
        "#dataset have 1765 rows and 6 columns\n",
        "df.shape"
      ],
      "metadata": {
        "id": "mypJo3XmP-uw",
        "outputId": "a3fcff2a-c2d0-4dc7-b354-3b59d4d0ab14",
        "colab": {
          "base_uri": "https://localhost:8080/"
        }
      },
      "execution_count": 34,
      "outputs": [
        {
          "output_type": "execute_result",
          "data": {
            "text/plain": [
              "(1765, 6)"
            ]
          },
          "metadata": {},
          "execution_count": 34
        }
      ]
    },
    {
      "cell_type": "markdown",
      "source": [
        "# **5.Having Duplicate Values?**"
      ],
      "metadata": {
        "id": "BiUfXcOEAeuS"
      }
    },
    {
      "cell_type": "code",
      "source": [
        "#no duplicate values present in the data\n",
        "df.duplicated().sum()"
      ],
      "metadata": {
        "id": "Ov2YLHOXP-r8",
        "outputId": "05e8e52c-e446-4b58-93b8-182cb8d6d46d",
        "colab": {
          "base_uri": "https://localhost:8080/"
        }
      },
      "execution_count": 35,
      "outputs": [
        {
          "output_type": "execute_result",
          "data": {
            "text/plain": [
              "0"
            ]
          },
          "metadata": {},
          "execution_count": 35
        }
      ]
    },
    {
      "cell_type": "markdown",
      "source": [
        "# **6.Check Data Types**"
      ],
      "metadata": {
        "id": "cPKkPMrJAnaT"
      }
    },
    {
      "cell_type": "code",
      "source": [
        "df.info()"
      ],
      "metadata": {
        "id": "-HrLcIpLq-Vq",
        "outputId": "2c2ff656-7981-491a-c4b0-276593142de7",
        "colab": {
          "base_uri": "https://localhost:8080/"
        }
      },
      "execution_count": 36,
      "outputs": [
        {
          "output_type": "stream",
          "name": "stdout",
          "text": [
            "<class 'pandas.core.frame.DataFrame'>\n",
            "RangeIndex: 1765 entries, 0 to 1764\n",
            "Data columns (total 6 columns):\n",
            " #   Column         Non-Null Count  Dtype  \n",
            "---  ------         --------------  -----  \n",
            " 0   User No        1765 non-null   float64\n",
            " 1   system_email   1461 non-null   object \n",
            " 2   date_joined    1534 non-null   float64\n",
            " 3   LT Done        1647 non-null   float64\n",
            " 4   Paid/Free      9 non-null      float64\n",
            " 5   Revision Done  1647 non-null   float64\n",
            "dtypes: float64(5), object(1)\n",
            "memory usage: 82.9+ KB\n"
          ]
        }
      ]
    },
    {
      "cell_type": "markdown",
      "source": [
        "# **7.Having Missing Values?**"
      ],
      "metadata": {
        "id": "jF1AtE30AuAt"
      }
    },
    {
      "cell_type": "code",
      "source": [
        "df.isnull().sum()"
      ],
      "metadata": {
        "id": "LPx9_9JSP-pN",
        "outputId": "ec9532ad-feb3-4b7c-c1b7-9ccbe04a8bd4",
        "colab": {
          "base_uri": "https://localhost:8080/"
        }
      },
      "execution_count": 37,
      "outputs": [
        {
          "output_type": "execute_result",
          "data": {
            "text/plain": [
              "User No             0\n",
              "system_email      304\n",
              "date_joined       231\n",
              "LT Done           118\n",
              "Paid/Free        1756\n",
              "Revision Done     118\n",
              "dtype: int64"
            ]
          },
          "metadata": {},
          "execution_count": 37
        }
      ]
    },
    {
      "cell_type": "code",
      "source": [
        "#304 users did not provide there Email_id\n",
        "#231 users Joinig date not provide\n",
        "#only 9 users are paid and all values are missing i think they are free users\n",
        "#118 LT Done and 118 Revision Done values Are missing.\n",
        "#date is not provide in correct formate.maximum users joining date is 44799.0 and minimum joining date is 44775.0"
      ],
      "metadata": {
        "id": "eROpXhWHRIP6"
      },
      "execution_count": 38,
      "outputs": []
    },
    {
      "cell_type": "markdown",
      "source": [
        "# **8.EDA**"
      ],
      "metadata": {
        "id": "qk2JAbZUBNt8"
      }
    },
    {
      "cell_type": "code",
      "source": [
        "plt.figure(figsize=(16,5))\n",
        "df['date_joined'].value_counts().sort_index().plot(kind='bar',color=sns.color_palette(\"cubehelix\"))"
      ],
      "metadata": {
        "colab": {
          "base_uri": "https://localhost:8080/",
          "height": 368
        },
        "id": "2cXbvnRtxBgy",
        "outputId": "2b449fa9-f182-4689-dae5-1f538f59d50c"
      },
      "execution_count": 39,
      "outputs": [
        {
          "output_type": "execute_result",
          "data": {
            "text/plain": [
              "<matplotlib.axes._subplots.AxesSubplot at 0x7fc9a0016e50>"
            ]
          },
          "metadata": {},
          "execution_count": 39
        },
        {
          "output_type": "display_data",
          "data": {
            "text/plain": [
              "<Figure size 1152x360 with 1 Axes>"
            ],
            "image/png": "[encoded data removed]"
          },
          "metadata": {}
        }
      ]
    },
    {
      "cell_type": "code",
      "source": [
        "#83.36% users did not give test and 16.64% user give atleast one  test\n",
        "plt.figure(figsize=(16,5))\n",
        "df['LT Done'].value_counts().plot(kind='pie',autopct='%.2f')"
      ],
      "metadata": {
        "id": "SChPsi8sTshq",
        "outputId": "a39f2e9e-5783-4b9e-a610-9298239513c6",
        "colab": {
          "base_uri": "https://localhost:8080/",
          "height": 320
        }
      },
      "execution_count": 40,
      "outputs": [
        {
          "output_type": "execute_result",
          "data": {
            "text/plain": [
              "<matplotlib.axes._subplots.AxesSubplot at 0x7fc99f208450>"
            ]
          },
          "metadata": {},
          "execution_count": 40
        },
        {
          "output_type": "display_data",
          "data": {
            "text/plain": [
              "<Figure size 1152x360 with 1 Axes>"
            ],
            "image/png": "[encoded data removed]"
          },
          "metadata": {}
        }
      ]
    },
    {
      "cell_type": "code",
      "source": [
        "#96.84% users did not done Revision and 3.16% user done atleast one  test\n",
        "plt.figure(figsize=(16,5))\n",
        "df['Revision Done'].value_counts().plot(kind='pie',autopct='%.2f')"
      ],
      "metadata": {
        "id": "GsKbbIx7WcN5",
        "outputId": "5f90517e-00ec-4d6a-cd7f-371433394e99",
        "colab": {
          "base_uri": "https://localhost:8080/",
          "height": 320
        }
      },
      "execution_count": 41,
      "outputs": [
        {
          "output_type": "execute_result",
          "data": {
            "text/plain": [
              "<matplotlib.axes._subplots.AxesSubplot at 0x7fc99f1c7f50>"
            ]
          },
          "metadata": {},
          "execution_count": 41
        },
        {
          "output_type": "display_data",
          "data": {
            "text/plain": [
              "<Figure size 1152x360 with 1 Axes>"
            ],
            "image/png": "[encoded data removed]"
          },
          "metadata": {}
        }
      ]
    },
    {
      "cell_type": "code",
      "source": [
        "#45 users done both atlest one test and one Revision\n",
        "df[(df['Revision Done']==1) & (df['LT Done']==1)].shape"
      ],
      "metadata": {
        "id": "1cqfVc5cWu2V",
        "outputId": "41735209-201e-457e-b435-9bb4e396d684",
        "colab": {
          "base_uri": "https://localhost:8080/"
        }
      },
      "execution_count": 42,
      "outputs": [
        {
          "output_type": "execute_result",
          "data": {
            "text/plain": [
              "(45, 6)"
            ]
          },
          "metadata": {},
          "execution_count": 42
        }
      ]
    },
    {
      "cell_type": "code",
      "source": [
        "#229 users done one test and not done revison\n",
        "df[(df['Revision Done']==0) & (df['LT Done']==1)].shape"
      ],
      "metadata": {
        "id": "NPcf7P1bXYcs",
        "outputId": "67a5b35c-bb51-4d38-eb01-045f3291cbd0",
        "colab": {
          "base_uri": "https://localhost:8080/"
        }
      },
      "execution_count": 43,
      "outputs": [
        {
          "output_type": "execute_result",
          "data": {
            "text/plain": [
              "(229, 6)"
            ]
          },
          "metadata": {},
          "execution_count": 43
        }
      ]
    },
    {
      "cell_type": "code",
      "source": [
        "# 7 users done revison and not done test\n",
        "df[(df['Revision Done']==1) & (df['LT Done']==0)].shape"
      ],
      "metadata": {
        "id": "aGHhYyReXeB8",
        "outputId": "3a65e7b4-fe76-42f1-88cf-b9ee0a13f9a3",
        "colab": {
          "base_uri": "https://localhost:8080/"
        }
      },
      "execution_count": 44,
      "outputs": [
        {
          "output_type": "execute_result",
          "data": {
            "text/plain": [
              "(7, 6)"
            ]
          },
          "metadata": {},
          "execution_count": 44
        }
      ]
    },
    {
      "cell_type": "code",
      "source": [
        "#13366 users did not do both test and revison\n",
        "df[(df['Revision Done']==0) & (df['LT Done']==0)].shape"
      ],
      "metadata": {
        "id": "02fPFLlJX04w",
        "outputId": "ae3f50b1-dd3c-4dcf-bce5-d50ea604d75f",
        "colab": {
          "base_uri": "https://localhost:8080/"
        }
      },
      "execution_count": 45,
      "outputs": [
        {
          "output_type": "execute_result",
          "data": {
            "text/plain": [
              "(1366, 6)"
            ]
          },
          "metadata": {},
          "execution_count": 45
        }
      ]
    }
  ]
}